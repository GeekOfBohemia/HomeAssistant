{
 "cells": [
  {
   "cell_type": "code",
   "execution_count": 3,
   "metadata": {},
   "outputs": [
    {
     "name": "stdout",
     "output_type": "stream",
     "text": [
      "16\n",
      "10\n",
      "60\n",
      "3\n",
      "52\n"
     ]
    }
   ],
   "source": [
    "a=0x0600\n",
    "b=0x0610\n",
    "print(b-a)\n",
    "a=0x03C0\n",
    "b=0x03CA\n",
    "print(b-a)\n",
    "a=0x0480\n",
    "b=0x04BC\n",
    "print(b-a)\n",
    "a=0x04BD\n",
    "b=0x04C0\n",
    "print(b-a)\n",
    "a=0x580\n",
    "b=0x05B4\n",
    "print(b-a)\n",
    "\n",
    "# Max 60"
   ]
  }
 ],
 "metadata": {
  "kernelspec": {
   "display_name": "Python 3",
   "language": "python",
   "name": "python3"
  },
  "language_info": {
   "codemirror_mode": {
    "name": "ipython",
    "version": 3
   },
   "file_extension": ".py",
   "mimetype": "text/x-python",
   "name": "python",
   "nbconvert_exporter": "python",
   "pygments_lexer": "ipython3",
   "version": "3.8.10"
  },
  "orig_nbformat": 4,
  "vscode": {
   "interpreter": {
    "hash": "916dbcbb3f70747c44a77c7bcd40155683ae19c65e1c03b4aa3499c5328201f1"
   }
  }
 },
 "nbformat": 4,
 "nbformat_minor": 2
}
